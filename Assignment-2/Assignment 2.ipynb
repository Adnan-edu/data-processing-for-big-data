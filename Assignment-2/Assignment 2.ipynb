{
 "cells": [
  {
   "cell_type": "markdown",
   "metadata": {},
   "source": [
    "# Step 01: Import Spark Session and initialize Spark"
   ]
  },
  {
   "cell_type": "code",
   "execution_count": 1,
   "metadata": {},
   "outputs": [],
   "source": [
    "# create entry points to spark\n",
    "from pyspark import SparkContext # Spark\n",
    "from pyspark.sql import SparkSession # Spark SQL\n",
    "\n",
    "# We add this line to avoid an error : \"Cannot run multiple SparkContexts at once\". \n",
    "# If there is an existing spark context, we will reuse it instead of creating a new context.\n",
    "sc = SparkContext.getOrCreate()\n",
    "\n",
    "# local[4]: run Spark locally with 4 working processors as logical cores on your machine.\n",
    "# In the field of `master`, we use a local server with as many working processors (or threads) as possible (i.e. `local[4]`). \n",
    "# If we want Spark to run locally with 'k' worker threads, we can specify as `local[k]`.\n",
    "# The `appName` field is a name to be shown on the Sparking cluster UI. \n",
    "\n",
    "# If there is no existing spark context, we now create a new context\n",
    "if (sc is None):\n",
    "    sc = SparkContext(master=\"local[4]\", appName=\"Assignment 2\")\n",
    "spark = SparkSession(sparkContext=sc)"
   ]
  },
  {
   "cell_type": "markdown",
   "metadata": {},
   "source": [
    "# Step 02: Load the dataset and print the schema and total number of entries"
   ]
  },
  {
   "cell_type": "markdown",
   "metadata": {},
   "source": [
    "## If the csv file have a header (column names in the first row) then set header=true. This will use the first row in the csv file as the dataframe's column names. Setting header=false (default option) will result in a dataframe with default column names: _c0, _c1, _c2, etc."
   ]
  },
  {
   "cell_type": "code",
   "execution_count": 2,
   "metadata": {},
   "outputs": [],
   "source": [
    "df = spark.read.csv(\"weatherAUS.csv\", inferSchema=True, header=True).toDF(\"Date\",\"Location\",\"MinTemp\",\"MaxTemp\",\"Rainfall\",\"Evaporation\",\"Sunshine\",\"WindGustDir\",\"WindGustSpeed\",\"WindDir9am\",\"WindDir3pm\",\"WindSpeed9am\",\"WindSpeed3pm\",\"Humidity9am\",\"Humidity3pm\",\"Pressure9am\",\"Pressure3pm\",\"Cloud9am\",\"Cloud3pm\",\"Temp9am\",\"Temp3pm\",\"RainToday\",\"RainTomorrow\")"
   ]
  },
  {
   "cell_type": "markdown",
   "metadata": {},
   "source": [
    "### Total number of entries in the dataset"
   ]
  },
  {
   "cell_type": "code",
   "execution_count": 3,
   "metadata": {},
   "outputs": [
    {
     "data": {
      "text/plain": [
       "142193"
      ]
     },
     "execution_count": 3,
     "metadata": {},
     "output_type": "execute_result"
    }
   ],
   "source": [
    "df.count()"
   ]
  },
  {
   "cell_type": "code",
   "execution_count": 4,
   "metadata": {},
   "outputs": [
    {
     "name": "stdout",
     "output_type": "stream",
     "text": [
      "root\n",
      " |-- Date: timestamp (nullable = true)\n",
      " |-- Location: string (nullable = true)\n",
      " |-- MinTemp: string (nullable = true)\n",
      " |-- MaxTemp: string (nullable = true)\n",
      " |-- Rainfall: string (nullable = true)\n",
      " |-- Evaporation: string (nullable = true)\n",
      " |-- Sunshine: string (nullable = true)\n",
      " |-- WindGustDir: string (nullable = true)\n",
      " |-- WindGustSpeed: string (nullable = true)\n",
      " |-- WindDir9am: string (nullable = true)\n",
      " |-- WindDir3pm: string (nullable = true)\n",
      " |-- WindSpeed9am: string (nullable = true)\n",
      " |-- WindSpeed3pm: string (nullable = true)\n",
      " |-- Humidity9am: string (nullable = true)\n",
      " |-- Humidity3pm: string (nullable = true)\n",
      " |-- Pressure9am: string (nullable = true)\n",
      " |-- Pressure3pm: string (nullable = true)\n",
      " |-- Cloud9am: string (nullable = true)\n",
      " |-- Cloud3pm: string (nullable = true)\n",
      " |-- Temp9am: string (nullable = true)\n",
      " |-- Temp3pm: string (nullable = true)\n",
      " |-- RainToday: string (nullable = true)\n",
      " |-- RainTomorrow: string (nullable = true)\n",
      "\n"
     ]
    }
   ],
   "source": [
    "df.printSchema()"
   ]
  },
  {
   "cell_type": "markdown",
   "metadata": {},
   "source": [
    "# B. Data Cleaning and Processing\n",
    "## Step 03: Delete columns from the dataset\n",
    "### * is used for unpacking the list. Here we have unpacked our list data and passed it to the drop function. Here every elements of the list dropped_columns will be unpacked."
   ]
  },
  {
   "cell_type": "code",
   "execution_count": 5,
   "metadata": {},
   "outputs": [],
   "source": [
    "dropped_columns = ['Date','Location','Evaporation','Sunshine','Cloud9am','Cloud3pm','Temp9am','Temp3pm']\n",
    "df = df.drop(*dropped_columns)"
   ]
  },
  {
   "cell_type": "code",
   "execution_count": 6,
   "metadata": {},
   "outputs": [
    {
     "name": "stdout",
     "output_type": "stream",
     "text": [
      "root\n",
      " |-- MinTemp: string (nullable = true)\n",
      " |-- MaxTemp: string (nullable = true)\n",
      " |-- Rainfall: string (nullable = true)\n",
      " |-- WindGustDir: string (nullable = true)\n",
      " |-- WindGustSpeed: string (nullable = true)\n",
      " |-- WindDir9am: string (nullable = true)\n",
      " |-- WindDir3pm: string (nullable = true)\n",
      " |-- WindSpeed9am: string (nullable = true)\n",
      " |-- WindSpeed3pm: string (nullable = true)\n",
      " |-- Humidity9am: string (nullable = true)\n",
      " |-- Humidity3pm: string (nullable = true)\n",
      " |-- Pressure9am: string (nullable = true)\n",
      " |-- Pressure3pm: string (nullable = true)\n",
      " |-- RainToday: string (nullable = true)\n",
      " |-- RainTomorrow: string (nullable = true)\n",
      "\n"
     ]
    }
   ],
   "source": [
    "#For testing purpose\n",
    "df.printSchema()"
   ]
  },
  {
   "cell_type": "markdown",
   "metadata": {},
   "source": [
    "## Step 04: Print the number of missing data in each column."
   ]
  },
  {
   "cell_type": "code",
   "execution_count": 7,
   "metadata": {},
   "outputs": [],
   "source": [
    "def countNAData(column):\n",
    "    return df.filter(df[column]=='NA').count()"
   ]
  },
  {
   "cell_type": "markdown",
   "metadata": {},
   "source": [
    "#### To get the list of names from the schema we can use schema.names which actually returns the column names."
   ]
  },
  {
   "cell_type": "code",
   "execution_count": 8,
   "metadata": {},
   "outputs": [],
   "source": [
    "sf = df.schema.names"
   ]
  },
  {
   "cell_type": "code",
   "execution_count": 9,
   "metadata": {},
   "outputs": [
    {
     "name": "stdout",
     "output_type": "stream",
     "text": [
      "MinTemp    637\n",
      "MaxTemp    322\n",
      "Rainfall    1406\n",
      "WindGustDir    9330\n",
      "WindGustSpeed    9270\n",
      "WindDir9am    10013\n",
      "WindDir3pm    3778\n",
      "WindSpeed9am    1348\n",
      "WindSpeed3pm    2630\n",
      "Humidity9am    1774\n",
      "Humidity3pm    3610\n",
      "Pressure9am    14014\n",
      "Pressure3pm    13981\n",
      "RainToday    1406\n",
      "RainTomorrow    0\n"
     ]
    }
   ],
   "source": [
    "for col in sf:\n",
    "    print(col ,'  ', countNAData(col))"
   ]
  },
  {
   "cell_type": "markdown",
   "metadata": {},
   "source": [
    "# Step 05: Fill the missing data with average value and maximum occurrence value."
   ]
  },
  {
   "cell_type": "code",
   "execution_count": 10,
   "metadata": {},
   "outputs": [],
   "source": [
    "from pyspark.sql import types"
   ]
  },
  {
   "cell_type": "code",
   "execution_count": 11,
   "metadata": {},
   "outputs": [],
   "source": [
    "numeric_column = ['MinTemp','MaxTemp','Rainfall','WindGustSpeed','WindSpeed9am','WindSpeed3pm','Humidity9am','Humidity3pm','Pressure9am','Pressure3pm']\n",
    "nonnumeric_columns = ['WindGustDir','WindDir9am','WindDir3pm','RainToday']"
   ]
  },
  {
   "cell_type": "code",
   "execution_count": 12,
   "metadata": {},
   "outputs": [],
   "source": [
    "from pyspark.sql.functions import udf"
   ]
  },
  {
   "cell_type": "markdown",
   "metadata": {},
   "source": [
    "#### mylist contains the mean for all the numeric column in numeric_column list. df.describe(['MinTemp']).collect() will provide the count, mean, stddev, min and max for 'MinTemp' column. As well as, nonnumericlist contains maximum frequency value.\n",
    "#### df.describe(['MinTemp']).collect()[0]['MinTemp'] -> count\n",
    "#### df.describe(['MinTemp']).collect()[1]['MinTemp'] -> mean\n",
    "#### df.describe(['MinTemp']).collect()[4]['WindGustDir'] -> maximum frequency of a word in the column."
   ]
  },
  {
   "cell_type": "code",
   "execution_count": 13,
   "metadata": {},
   "outputs": [],
   "source": [
    "mylist = []\n",
    "for i in numeric_column:\n",
    "    mylist.append(df.describe([i]).collect()[1][i])"
   ]
  },
  {
   "cell_type": "code",
   "execution_count": 14,
   "metadata": {},
   "outputs": [],
   "source": [
    "nonnumericlist = []\n",
    "for i in nonnumeric_columns:\n",
    "    nonnumericlist.append(df.describe([i]).collect()[4][i])"
   ]
  },
  {
   "cell_type": "markdown",
   "metadata": {},
   "source": [
    "### Creating udf function for each column in order to assign the average value for the numeric column and maximum frequency value for non numeric column where 'NA' was found."
   ]
  },
  {
   "cell_type": "code",
   "execution_count": 15,
   "metadata": {},
   "outputs": [],
   "source": [
    "avgColMinTemp = udf(lambda x: mylist[0] if x=='NA' else x)\n",
    "avgColMaxTemp = udf(lambda x: mylist[1] if x=='NA' else x)\n",
    "avgColRainfall = udf(lambda x: mylist[2] if x=='NA' else x)\n",
    "avgColWindGustSpeed = udf(lambda x: mylist[3] if x=='NA' else x)\n",
    "avgColWindSpeed9am= udf(lambda x: mylist[4] if x=='NA' else x)\n",
    "avgColWindSpeed3pm= udf(lambda x: mylist[5] if x=='NA' else x)\n",
    "avgColHumidity9am= udf(lambda x: mylist[6] if x=='NA' else x)\n",
    "avgColHumidity3pm= udf(lambda x: mylist[7] if x=='NA' else x)\n",
    "avgColPressure9am= udf(lambda x: mylist[8] if x=='NA' else x)\n",
    "avgColPressure3pm= udf(lambda x: mylist[9] if x=='NA' else x)\n",
    "freqWindGustDir = udf(lambda x: nonnumericlist[0] if x=='NA' else x)\n",
    "freqWindDir9am = udf(lambda x: nonnumericlist[1] if x=='NA' else x)\n",
    "freqWindDir3pm = udf(lambda x: nonnumericlist[2] if x=='NA' else x)\n",
    "freqRainToday = udf(lambda x: nonnumericlist[3] if x=='NA' else x)"
   ]
  },
  {
   "cell_type": "code",
   "execution_count": 16,
   "metadata": {},
   "outputs": [],
   "source": [
    "df = df.withColumn('MinTemp',avgColMinTemp(df['MinTemp']))\\\n",
    ".withColumn('MaxTemp',avgColMaxTemp(df['MaxTemp']))\\\n",
    ".withColumn('Rainfall',avgColRainfall(df['Rainfall']))\\\n",
    ".withColumn('WindGustSpeed',avgColWindGustSpeed(df['WindGustSpeed']))\\\n",
    ".withColumn('WindSpeed9am',avgColWindSpeed9am(df['WindSpeed9am']))\\\n",
    ".withColumn('WindSpeed3pm',avgColWindSpeed3pm(df['WindSpeed3pm']))\\\n",
    ".withColumn('Humidity9am',avgColHumidity9am(df['Humidity9am']))\\\n",
    ".withColumn('Humidity3pm',avgColHumidity3pm(df['Humidity3pm']))\\\n",
    ".withColumn('Pressure9am',avgColPressure9am(df['Pressure9am']))\\\n",
    ".withColumn('Pressure3pm',avgColPressure3pm(df['Pressure3pm']))\\\n",
    ".withColumn('WindGustDir',freqWindGustDir(df['WindGustDir']))\\\n",
    ".withColumn('WindDir9am',freqWindDir9am(df['WindDir9am']))\\\n",
    ".withColumn('WindDir3pm',freqWindDir3pm(df['WindDir3pm']))\\\n",
    ".withColumn('RainToday',freqRainToday(df['RainToday']))"
   ]
  },
  {
   "cell_type": "markdown",
   "metadata": {},
   "source": [
    "## Step 06: Data transformation"
   ]
  },
  {
   "cell_type": "markdown",
   "metadata": {},
   "source": [
    "### Type casting has been done- Double for the numeric value columns"
   ]
  },
  {
   "cell_type": "code",
   "execution_count": 19,
   "metadata": {},
   "outputs": [],
   "source": [
    "from pyspark.sql import types\n",
    "df =  df.withColumn(\"MinTemp\",df[\"MinTemp\"].cast(types.DoubleType()))\\\n",
    "        .withColumn(\"MaxTemp\",df[\"MaxTemp\"].cast(types.DoubleType()))\\\n",
    "        .withColumn(\"Rainfall\",df[\"Rainfall\"].cast(types.DoubleType()))\\\n",
    "        .withColumn(\"WindGustSpeed\",df[\"WindGustSpeed\"].cast(types.DoubleType()))\\\n",
    "        .withColumn(\"WindSpeed9am\",df[\"WindSpeed9am\"].cast(types.DoubleType()))\\\n",
    "        .withColumn(\"WindSpeed3pm\",df[\"WindSpeed3pm\"].cast(types.DoubleType()))\\\n",
    "        .withColumn(\"Humidity9am\",df[\"Humidity9am\"].cast(types.DoubleType()))\\\n",
    "        .withColumn(\"Humidity3pm\",df[\"Humidity3pm\"].cast(types.DoubleType()))\\\n",
    "        .withColumn(\"Pressure9am\",df[\"Pressure9am\"].cast(types.DoubleType()))\\\n",
    "        .withColumn(\"Pressure3pm\",df[\"Pressure3pm\"].cast(types.DoubleType()))\\\n",
    "        .withColumn(\"WindGustDir\",df[\"WindGustDir\"])\\\n",
    "        .withColumn(\"WindDir9am\",df[\"WindDir9am\"])\\\n",
    "        .withColumn(\"WindDir3pm\",df[\"WindDir3pm\"])\\\n",
    "        .withColumn(\"RainToday\",df[\"RainToday\"])\\\n",
    "        .withColumn(\"RainTomorrow\",df[\"RainTomorrow\"])"
   ]
  },
  {
   "cell_type": "code",
   "execution_count": 21,
   "metadata": {},
   "outputs": [],
   "source": [
    "from pyspark.ml.feature import StringIndexer"
   ]
  },
  {
   "cell_type": "code",
   "execution_count": 22,
   "metadata": {},
   "outputs": [],
   "source": [
    "WindGustDir_indexer = StringIndexer(inputCol=\"WindGustDir\", outputCol=\"WindGustDir_index\")\n",
    "WindDir9am_indexer = StringIndexer(inputCol=\"WindDir9am\", outputCol=\"WindDir9am_index\")\n",
    "WindDir3pm_indexer = StringIndexer(inputCol=\"WindDir3pm\", outputCol=\"WindDir3pm_index\")\n",
    "RainToday_indexer = StringIndexer(inputCol=\"RainToday\", outputCol=\"RainToday_index\")\n",
    "RainTomorrow_indexer = StringIndexer(inputCol=\"RainTomorrow\", outputCol=\"RainTomorrow_index\")"
   ]
  },
  {
   "cell_type": "code",
   "execution_count": 23,
   "metadata": {},
   "outputs": [],
   "source": [
    "df = WindGustDir_indexer.fit(df).transform(df)\n",
    "df = WindDir9am_indexer.fit(df).transform(df)\n",
    "df = WindDir3pm_indexer.fit(df).transform(df)\n",
    "df = RainToday_indexer.fit(df).transform(df)\n",
    "df = RainTomorrow_indexer.fit(df).transform(df)"
   ]
  },
  {
   "cell_type": "markdown",
   "metadata": {},
   "source": [
    "### Since it is told in the marking rubric to drop the orginal columns whose indexing is done."
   ]
  },
  {
   "cell_type": "code",
   "execution_count": 24,
   "metadata": {},
   "outputs": [],
   "source": [
    "df = df.drop('WindGustDir','WindDir9am','WindDir3pm','RainToday','RainTomorrow')"
   ]
  },
  {
   "cell_type": "markdown",
   "metadata": {},
   "source": [
    "# Step 07: Create the feature vector and divide the dataset"
   ]
  },
  {
   "cell_type": "code",
   "execution_count": 25,
   "metadata": {},
   "outputs": [],
   "source": [
    "from pyspark.ml.feature import VectorAssembler"
   ]
  },
  {
   "cell_type": "markdown",
   "metadata": {},
   "source": [
    "### VectorAssembler is a transformer that combines a given list of columns into a single vector column \"features\""
   ]
  },
  {
   "cell_type": "code",
   "execution_count": 26,
   "metadata": {},
   "outputs": [],
   "source": [
    "vector_assembler = VectorAssembler(inputCols=[\"MinTemp\", \"MaxTemp\", \"Rainfall\", \"WindGustSpeed\",\"WindSpeed9am\",\"WindSpeed3pm\",\"Humidity9am\",\"Humidity3pm\",\"Pressure9am\",\"Pressure3pm\",\"WindGustDir_index\",\"WindDir9am_index\",\"WindDir3pm_index\",\"RainToday_index\"],outputCol=\"features\")"
   ]
  },
  {
   "cell_type": "code",
   "execution_count": 27,
   "metadata": {},
   "outputs": [],
   "source": [
    "df = vector_assembler.transform(df)"
   ]
  },
  {
   "cell_type": "code",
   "execution_count": 28,
   "metadata": {},
   "outputs": [],
   "source": [
    "#I hope will not make any effect after deleting this\n",
    "#columns since they are not used in the following stages\n",
    "#df = df.drop(\"MinTemp\", \"MaxTemp\", \"Rainfall\", \"WindGustSpeed\",\"WindSpeed9am\",\"WindSpeed3pm\",\"Humidity9am\",\"Humidity3pm\",\"Pressure9am\",\"Pressure3pm\",\"WindGustDir_index\",\"WindDir9am_index\",\"WindDir3pm_index\",\"RainToday_index\")"
   ]
  },
  {
   "cell_type": "markdown",
   "metadata": {},
   "source": [
    "### 4. Splitting the dataset between training and test dataset"
   ]
  },
  {
   "cell_type": "code",
   "execution_count": 29,
   "metadata": {},
   "outputs": [],
   "source": [
    "(trainingData, testData) = df.randomSplit([0.7, 0.3], seed = 2019)"
   ]
  },
  {
   "cell_type": "markdown",
   "metadata": {},
   "source": [
    "# C. Apply Machine Learning Algorithms"
   ]
  },
  {
   "cell_type": "code",
   "execution_count": 30,
   "metadata": {},
   "outputs": [],
   "source": [
    "from pyspark.ml.classification import DecisionTreeClassifier"
   ]
  },
  {
   "cell_type": "code",
   "execution_count": 31,
   "metadata": {},
   "outputs": [],
   "source": [
    "decision_tree = DecisionTreeClassifier(labelCol=\"RainTomorrow_index\", featuresCol=\"features\")"
   ]
  },
  {
   "cell_type": "code",
   "execution_count": 32,
   "metadata": {},
   "outputs": [],
   "source": [
    "dt_model = decision_tree.fit(trainingData)"
   ]
  },
  {
   "cell_type": "code",
   "execution_count": 33,
   "metadata": {},
   "outputs": [],
   "source": [
    "dt_predictions = dt_model.transform(testData)"
   ]
  },
  {
   "cell_type": "code",
   "execution_count": 34,
   "metadata": {},
   "outputs": [
    {
     "name": "stdout",
     "output_type": "stream",
     "text": [
      "+----------+------------------+\n",
      "|prediction|RainTomorrow_index|\n",
      "+----------+------------------+\n",
      "|       0.0|               0.0|\n",
      "|       0.0|               0.0|\n",
      "|       1.0|               1.0|\n",
      "|       1.0|               1.0|\n",
      "|       1.0|               0.0|\n",
      "|       0.0|               0.0|\n",
      "+----------+------------------+\n",
      "only showing top 6 rows\n",
      "\n"
     ]
    }
   ],
   "source": [
    "dt_predictions.select('prediction','RainTomorrow_index').show(6)"
   ]
  },
  {
   "cell_type": "code",
   "execution_count": 35,
   "metadata": {},
   "outputs": [
    {
     "name": "stdout",
     "output_type": "stream",
     "text": [
      "DecisionTreeClassifier Accuracy 0.8346073176415754\n",
      "Test Error = 0.165393 \n"
     ]
    }
   ],
   "source": [
    "from pyspark.ml.evaluation import MulticlassClassificationEvaluator\n",
    "dt_evaluator = MulticlassClassificationEvaluator(\\\n",
    "\n",
    "labelCol=\"RainTomorrow_index\", predictionCol=\"prediction\",\\\n",
    "\n",
    "metricName=\"accuracy\")\n",
    "\n",
    "dt_accuracy = dt_evaluator.evaluate(dt_predictions)\n",
    "print(\"DecisionTreeClassifier Accuracy\",dt_accuracy)\n",
    "print(\"Test Error = %g \" % (1.0 - dt_accuracy))"
   ]
  },
  {
   "cell_type": "markdown",
   "metadata": {},
   "source": [
    "### Run and calculate the accuracy of random forest algorithm"
   ]
  },
  {
   "cell_type": "code",
   "execution_count": 36,
   "metadata": {},
   "outputs": [],
   "source": [
    "from pyspark.ml.classification import RandomForestClassifier"
   ]
  },
  {
   "cell_type": "code",
   "execution_count": 37,
   "metadata": {},
   "outputs": [],
   "source": [
    "rf = RandomForestClassifier(labelCol=\"RainTomorrow_index\",\\\n",
    "featuresCol=\"features\", numTrees=10)"
   ]
  },
  {
   "cell_type": "code",
   "execution_count": 38,
   "metadata": {},
   "outputs": [],
   "source": [
    "rf_model = rf.fit(trainingData)"
   ]
  },
  {
   "cell_type": "code",
   "execution_count": 39,
   "metadata": {},
   "outputs": [],
   "source": [
    "rf_predictions = rf_model.transform(testData)"
   ]
  },
  {
   "cell_type": "code",
   "execution_count": 40,
   "metadata": {},
   "outputs": [
    {
     "name": "stdout",
     "output_type": "stream",
     "text": [
      "+----------+------------------+\n",
      "|prediction|RainTomorrow_index|\n",
      "+----------+------------------+\n",
      "|       0.0|               0.0|\n",
      "|       0.0|               0.0|\n",
      "|       1.0|               1.0|\n",
      "|       1.0|               1.0|\n",
      "|       1.0|               0.0|\n",
      "+----------+------------------+\n",
      "only showing top 5 rows\n",
      "\n"
     ]
    }
   ],
   "source": [
    "rf_predictions.select(\"prediction\", \"RainTomorrow_index\").show(5)"
   ]
  },
  {
   "cell_type": "code",
   "execution_count": 41,
   "metadata": {},
   "outputs": [],
   "source": [
    "rf_evaluator = MulticlassClassificationEvaluator(labelCol=\"RainTomorrow_index\",\\\n",
    "predictionCol=\"prediction\", metricName=\"accuracy\")"
   ]
  },
  {
   "cell_type": "code",
   "execution_count": 42,
   "metadata": {},
   "outputs": [
    {
     "name": "stdout",
     "output_type": "stream",
     "text": [
      "RandomForestClassifier Accuracy:  0.8360755068748543\n",
      "Test Error = 0.163924\n"
     ]
    }
   ],
   "source": [
    "rf_accuracy = rf_evaluator.evaluate(rf_predictions)\n",
    "print (\"RandomForestClassifier Accuracy: \",rf_accuracy)\n",
    "print(\"Test Error = %g\" % (1.0 - rf_accuracy))"
   ]
  },
  {
   "cell_type": "markdown",
   "metadata": {},
   "source": [
    "### Run and calculate the accuracy of Logistic Regression"
   ]
  },
  {
   "cell_type": "code",
   "execution_count": 43,
   "metadata": {},
   "outputs": [],
   "source": [
    "from pyspark.ml.classification import LogisticRegression\n",
    "lr = LogisticRegression(featuresCol = 'features', labelCol = 'RainTomorrow_index',    maxIter=10)"
   ]
  },
  {
   "cell_type": "code",
   "execution_count": 44,
   "metadata": {},
   "outputs": [],
   "source": [
    "lr_model = lr.fit(trainingData)"
   ]
  },
  {
   "cell_type": "code",
   "execution_count": 45,
   "metadata": {},
   "outputs": [],
   "source": [
    "lr_predictions = lr_model.transform(testData)"
   ]
  },
  {
   "cell_type": "code",
   "execution_count": 49,
   "metadata": {},
   "outputs": [
    {
     "name": "stdout",
     "output_type": "stream",
     "text": [
      "+----------+------------------+\n",
      "|prediction|RainTomorrow_index|\n",
      "+----------+------------------+\n",
      "|       0.0|               0.0|\n",
      "|       0.0|               0.0|\n",
      "+----------+------------------+\n",
      "only showing top 2 rows\n",
      "\n"
     ]
    }
   ],
   "source": [
    "lr_predictions.select(\"prediction\", \"RainTomorrow_index\").show(2)"
   ]
  },
  {
   "cell_type": "code",
   "execution_count": 50,
   "metadata": {},
   "outputs": [],
   "source": [
    "lr_evaluator = MulticlassClassificationEvaluator(labelCol=\"RainTomorrow_index\",\\\n",
    "predictionCol=\"prediction\", metricName=\"accuracy\")"
   ]
  },
  {
   "cell_type": "code",
   "execution_count": 51,
   "metadata": {},
   "outputs": [
    {
     "name": "stdout",
     "output_type": "stream",
     "text": [
      "Logistic Regression Accuracy:  0.8176182707993475\n",
      "Test Error = 0.182382\n"
     ]
    }
   ],
   "source": [
    "lr_accuracy = lr_evaluator.evaluate(lr_predictions)\n",
    "print (\"Logistic Regression Accuracy: \",lr_accuracy)\n",
    "print(\"Test Error = %g\" % (1.0 - lr_accuracy))"
   ]
  },
  {
   "cell_type": "markdown",
   "metadata": {},
   "source": [
    "### Run and calculate the accuracy of Gradient-Boosted Tree Classifier"
   ]
  },
  {
   "cell_type": "code",
   "execution_count": 52,
   "metadata": {},
   "outputs": [],
   "source": [
    "from pyspark.ml.classification import GBTClassifier"
   ]
  },
  {
   "cell_type": "markdown",
   "metadata": {},
   "source": [
    "#### if maxIter=10"
   ]
  },
  {
   "cell_type": "code",
   "execution_count": 53,
   "metadata": {},
   "outputs": [],
   "source": [
    "gbt = GBTClassifier(featuresCol = 'features', labelCol = 'RainTomorrow_index', maxIter=10)"
   ]
  },
  {
   "cell_type": "code",
   "execution_count": 54,
   "metadata": {},
   "outputs": [],
   "source": [
    "gbt_model = gbt.fit(trainingData)"
   ]
  },
  {
   "cell_type": "code",
   "execution_count": 55,
   "metadata": {},
   "outputs": [],
   "source": [
    "gbt_predictions = gbt_model.transform(testData)"
   ]
  },
  {
   "cell_type": "code",
   "execution_count": 57,
   "metadata": {},
   "outputs": [
    {
     "name": "stdout",
     "output_type": "stream",
     "text": [
      "+----------+------------------+\n",
      "|prediction|RainTomorrow_index|\n",
      "+----------+------------------+\n",
      "|       0.0|               0.0|\n",
      "|       0.0|               0.0|\n",
      "+----------+------------------+\n",
      "only showing top 2 rows\n",
      "\n"
     ]
    }
   ],
   "source": [
    "gbt_predictions.select(\"prediction\", \"RainTomorrow_index\").show(2)"
   ]
  },
  {
   "cell_type": "code",
   "execution_count": 58,
   "metadata": {},
   "outputs": [],
   "source": [
    "from pyspark.ml.evaluation import MulticlassClassificationEvaluator\n",
    "gbt_evaluator = MulticlassClassificationEvaluator(labelCol=\"RainTomorrow_index\",\\\n",
    "predictionCol=\"prediction\", metricName=\"accuracy\")"
   ]
  },
  {
   "cell_type": "code",
   "execution_count": 59,
   "metadata": {},
   "outputs": [],
   "source": [
    "gbt_accuracy = gbt_evaluator.evaluate(gbt_predictions)"
   ]
  },
  {
   "cell_type": "code",
   "execution_count": 60,
   "metadata": {},
   "outputs": [
    {
     "name": "stdout",
     "output_type": "stream",
     "text": [
      "Gradient-Boosted Tree Classifier Accuracy:  0.8419482638079702\n",
      "Test Error = 0.158052\n"
     ]
    }
   ],
   "source": [
    "print (\"Gradient-Boosted Tree Classifier Accuracy: \",gbt_accuracy)\n",
    "print(\"Test Error = %g\" % (1.0 - gbt_accuracy))"
   ]
  },
  {
   "cell_type": "markdown",
   "metadata": {},
   "source": [
    "#### Bar chart to demonstrate the comparison of their accuracy.\n",
    "#### DT ->  DecisionTreeClassifier\n",
    "#### RF ->  RandomForestClassifier\n",
    "#### LR ->  LogisticRegression\n",
    "#### GBT -> GBTClassifier"
   ]
  },
  {
   "cell_type": "code",
   "execution_count": 63,
   "metadata": {},
   "outputs": [],
   "source": [
    "accuracy_list = [dt_accuracy,rf_accuracy,lr_accuracy,gbt_accuracy]\n",
    "accuracy_name = [\"DT\",\"RF\",\"LR\",\"GBT\"]"
   ]
  },
  {
   "cell_type": "code",
   "execution_count": 64,
   "metadata": {},
   "outputs": [],
   "source": [
    "import matplotlib.pyplot as plt\n",
    "%matplotlib inline\n",
    "import math\n",
    "import numpy as np"
   ]
  },
  {
   "cell_type": "code",
   "execution_count": 67,
   "metadata": {},
   "outputs": [
    {
     "data": {
      "image/png": "[encoded data removed]",
      "text/plain": [
       "<Figure size 432x288 with 1 Axes>"
      ]
     },
     "metadata": {
      "needs_background": "light"
     },
     "output_type": "display_data"
    }
   ],
   "source": [
    "objects= (name for name in accuracy_name)\n",
    "# prepare data\n",
    "y_axis = [ac*100 for ac in accuracy_list]\n",
    "\n",
    "# plot\n",
    "bar_width = 0.5\n",
    "objects= accuracy_name\n",
    "y_pos = np.arange(len(objects))\n",
    "\n",
    "min_y = min(y_axis) - 1\n",
    "max_y = max(y_axis) + 1\n",
    "plt.bar(y_pos, y_axis, bar_width, align='center', color='C0')\n",
    "plt.xticks(y_pos, objects)\n",
    "plt.xlabel('Classifier')\n",
    "plt.ylim([min_y,max_y])\n",
    "plt.ylabel('Percentage of accuracy[Out of 100%]')\n",
    "plt.title('Accuracy Comparison')\n",
    "plt.tight_layout()\n",
    "plt.show()"
   ]
  },
  {
   "cell_type": "markdown",
   "metadata": {},
   "source": [
    "### The above bar graph illustrates the percentage of accuracy for each classifier. Overall the accuracy of GBT is better compared to other three classifier. From DT to RF, accuracy increases gradually but for LR it is suddenly dropped. Again for GBT it is jumped suddenly. "
   ]
  },
  {
   "cell_type": "markdown",
   "metadata": {},
   "source": [
    "## Step 09: Calculate the confusion matrix and find the precision, recall, and F1 score of each classification algorithm. Explain how the accuracy of the predication can be improved?\n",
    "### I have considered the following thing:\n",
    "#### If rain occurs: 1.0 which is positive and if it doesn't rain then 0.0 which is negative"
   ]
  },
  {
   "cell_type": "markdown",
   "metadata": {},
   "source": [
    "### For DecisionTreeClassifier\n",
    "\n",
    "#### tp_dt -> Store True Positive\n",
    "#### tn_dt -> Store True Negative\n",
    "#### fp_dt -> Store False Positive\n",
    "#### fn_dt -> Store False Negative\n",
    "#### precision_dt -> Precision \n",
    "#### recall_dt -> Recall\n",
    "#### f1score_dt -> F1 Score "
   ]
  },
  {
   "cell_type": "code",
   "execution_count": 69,
   "metadata": {},
   "outputs": [],
   "source": [
    "tp_dt = dt_predictions[(dt_predictions.RainTomorrow_index == 1.0) & (dt_predictions.prediction == 1.0)].count()"
   ]
  },
  {
   "cell_type": "code",
   "execution_count": 70,
   "metadata": {},
   "outputs": [],
   "source": [
    "tn_dt = dt_predictions[(dt_predictions.RainTomorrow_index == 0.0) & (dt_predictions.prediction == 0.0)].count()"
   ]
  },
  {
   "cell_type": "code",
   "execution_count": 71,
   "metadata": {},
   "outputs": [],
   "source": [
    "fp_dt = dt_predictions[(dt_predictions.RainTomorrow_index == 0.0) & (dt_predictions.prediction == 1.0)].count()"
   ]
  },
  {
   "cell_type": "code",
   "execution_count": 72,
   "metadata": {},
   "outputs": [],
   "source": [
    "fn_dt = dt_predictions[(dt_predictions.RainTomorrow_index == 1.0) & (dt_predictions.prediction == 0.0)].count()"
   ]
  },
  {
   "cell_type": "code",
   "execution_count": 73,
   "metadata": {},
   "outputs": [
    {
     "name": "stdout",
     "output_type": "stream",
     "text": [
      "True Positive:  4236\n",
      "True Negative:  31577\n",
      "False Positive:  1701\n",
      "False Negative:  5396\n",
      "Total:  42910\n"
     ]
    }
   ],
   "source": [
    "print (\"True Positive: \",tp_dt)\n",
    "print (\"True Negative: \",tn_dt)\n",
    "print (\"False Positive: \",fp_dt)\n",
    "print (\"False Negative: \",fn_dt)\n",
    "print (\"Total: \",dt_predictions.count())"
   ]
  },
  {
   "cell_type": "code",
   "execution_count": 74,
   "metadata": {},
   "outputs": [],
   "source": [
    "precision_dt = float(tp_dt)/(tp_dt+fp_dt)"
   ]
  },
  {
   "cell_type": "code",
   "execution_count": 75,
   "metadata": {},
   "outputs": [],
   "source": [
    "recall_dt = float(tp_dt)/(tp_dt+fn_dt)"
   ]
  },
  {
   "cell_type": "code",
   "execution_count": 76,
   "metadata": {},
   "outputs": [
    {
     "name": "stdout",
     "output_type": "stream",
     "text": [
      "Precision:  0.7134916624557858\n",
      "Recall:  0.43978405315614616\n"
     ]
    }
   ],
   "source": [
    "print (\"Precision: \",precision_dt)\n",
    "print (\"Recall: \",recall_dt)"
   ]
  },
  {
   "cell_type": "code",
   "execution_count": 77,
   "metadata": {},
   "outputs": [],
   "source": [
    "f1score_dt = (2*((precision_dt*recall_dt)/(precision_dt+recall_dt)))"
   ]
  },
  {
   "cell_type": "code",
   "execution_count": 78,
   "metadata": {},
   "outputs": [
    {
     "data": {
      "text/plain": [
       "0.5441582632153638"
      ]
     },
     "execution_count": 78,
     "metadata": {},
     "output_type": "execute_result"
    }
   ],
   "source": [
    "f1score_dt"
   ]
  },
  {
   "cell_type": "markdown",
   "metadata": {},
   "source": [
    "### For RandomForestClassifier\n",
    "\n",
    "#### tp_randomforest -> Store True Positive\n",
    "#### tn_randomforest -> Store True Negative\n",
    "#### fp_randomforest -> Store False Positive\n",
    "#### fn_randomforest -> Store False Negative\n",
    "#### precision_randomforest -> Precision \n",
    "#### recall_randomforest -> Recall\n",
    "#### f1score_randomforest -> F1 Score "
   ]
  },
  {
   "cell_type": "code",
   "execution_count": 79,
   "metadata": {},
   "outputs": [],
   "source": [
    "tp_randomforest = rf_predictions[(rf_predictions.RainTomorrow_index == 1.0) & (rf_predictions.prediction == 1.0)].count()"
   ]
  },
  {
   "cell_type": "code",
   "execution_count": 80,
   "metadata": {},
   "outputs": [],
   "source": [
    "tn_randomforest = rf_predictions[(rf_predictions.RainTomorrow_index == 0.0) & (rf_predictions.prediction == 0.0)].count()"
   ]
  },
  {
   "cell_type": "code",
   "execution_count": 81,
   "metadata": {},
   "outputs": [],
   "source": [
    "fp_randomforest = rf_predictions[(rf_predictions.RainTomorrow_index == 0.0) & (rf_predictions.prediction == 1.0)].count()"
   ]
  },
  {
   "cell_type": "code",
   "execution_count": 82,
   "metadata": {},
   "outputs": [],
   "source": [
    "fn_randomforest = rf_predictions[(rf_predictions.RainTomorrow_index == 1.0) & (rf_predictions.prediction == 0.0)].count()"
   ]
  },
  {
   "cell_type": "code",
   "execution_count": 83,
   "metadata": {},
   "outputs": [
    {
     "name": "stdout",
     "output_type": "stream",
     "text": [
      "True Positive:  3857\n",
      "True Negative:  32019\n",
      "False Positive:  1259\n",
      "False Negative:  5775\n",
      "Total:  42910\n"
     ]
    }
   ],
   "source": [
    "print (\"True Positive: \",tp_randomforest)\n",
    "print (\"True Negative: \",tn_randomforest)\n",
    "print (\"False Positive: \",fp_randomforest)\n",
    "print (\"False Negative: \",fn_randomforest)\n",
    "print (\"Total: \",rf_predictions.count())"
   ]
  },
  {
   "cell_type": "code",
   "execution_count": 84,
   "metadata": {},
   "outputs": [],
   "source": [
    "precision_randomforest = float(tp_randomforest)/(tp_randomforest+fp_randomforest)"
   ]
  },
  {
   "cell_type": "code",
   "execution_count": 85,
   "metadata": {},
   "outputs": [],
   "source": [
    "recall_randomforest = float(tp_randomforest)/(tp_randomforest+fn_randomforest)"
   ]
  },
  {
   "cell_type": "code",
   "execution_count": 86,
   "metadata": {},
   "outputs": [],
   "source": [
    "f1score_randomforest = (2*((precision_randomforest*recall_randomforest)/(precision_randomforest+recall_randomforest)))"
   ]
  },
  {
   "cell_type": "code",
   "execution_count": 87,
   "metadata": {},
   "outputs": [
    {
     "name": "stdout",
     "output_type": "stream",
     "text": [
      "RandomForestClassifier - Precision:  0.7539093041438624\n",
      "RandomForestClassifier - Recall:  0.4004360465116279\n",
      "RandomForestClassifier - F1 Score:  0.5230539734201248\n"
     ]
    }
   ],
   "source": [
    "print (\"RandomForestClassifier - Precision: \",precision_randomforest)\n",
    "print (\"RandomForestClassifier - Recall: \",recall_randomforest)\n",
    "print (\"RandomForestClassifier - F1 Score: \",f1score_randomforest)"
   ]
  },
  {
   "cell_type": "markdown",
   "metadata": {},
   "source": [
    "### For LogisticRegression\n",
    "\n",
    "#### tp_lr -> Store True Positive\n",
    "#### tn_lr -> Store True Negative\n",
    "#### fp_lr -> Store False Positive\n",
    "#### fn_lr -> Store False Negative\n",
    "#### precision_lr -> Precision \n",
    "#### recall_lr -> Recall\n",
    "#### f1score_lr -> F1 Score "
   ]
  },
  {
   "cell_type": "code",
   "execution_count": 88,
   "metadata": {},
   "outputs": [],
   "source": [
    "tp_lr = lr_predictions[(lr_predictions.RainTomorrow_index == 1.0) & (lr_predictions.prediction == 1.0)].count()\n",
    "tn_lr = lr_predictions[(lr_predictions.RainTomorrow_index == 0.0) & (lr_predictions.prediction == 0.0)].count()\n",
    "fp_lr = lr_predictions[(lr_predictions.RainTomorrow_index == 0.0) & (lr_predictions.prediction == 1.0)].count()\n",
    "fn_lr = lr_predictions[(lr_predictions.RainTomorrow_index == 1.0) & (lr_predictions.prediction == 0.0)].count()"
   ]
  },
  {
   "cell_type": "code",
   "execution_count": 89,
   "metadata": {},
   "outputs": [
    {
     "name": "stdout",
     "output_type": "stream",
     "text": [
      "True Positive:  4102\n",
      "True Negative:  30982\n",
      "False Positive:  2296\n",
      "False Negative:  5530\n",
      "Total:  42910\n"
     ]
    }
   ],
   "source": [
    "print (\"True Positive: \",tp_lr)\n",
    "print (\"True Negative: \",tn_lr)\n",
    "print (\"False Positive: \",fp_lr)\n",
    "print (\"False Negative: \",fn_lr)\n",
    "print (\"Total: \",lr_predictions.count())"
   ]
  },
  {
   "cell_type": "code",
   "execution_count": 90,
   "metadata": {},
   "outputs": [],
   "source": [
    "precision_lr = float(tp_lr)/(tp_lr+fp_lr)\n",
    "recall_lr = float(tp_lr)/(tp_lr+fn_lr)\n",
    "f1score_lr = (2*((precision_lr*recall_lr)/(precision_lr+recall_lr)))"
   ]
  },
  {
   "cell_type": "code",
   "execution_count": 91,
   "metadata": {},
   "outputs": [
    {
     "name": "stdout",
     "output_type": "stream",
     "text": [
      "LogisticRegression - Precision:  0.6411378555798687\n",
      "LogisticRegression - Recall:  0.4258720930232558\n",
      "LogisticRegression - F1 Score:  0.5117903930131004\n"
     ]
    }
   ],
   "source": [
    "print (\"LogisticRegression - Precision: \",precision_lr)\n",
    "print (\"LogisticRegression - Recall: \",recall_lr)\n",
    "print (\"LogisticRegression - F1 Score: \",f1score_lr)"
   ]
  },
  {
   "cell_type": "markdown",
   "metadata": {},
   "source": [
    "### For GBTClassifier\n",
    "\n",
    "#### tp_gbt -> Store True Positive\n",
    "#### tn_gbt -> Store True Negative\n",
    "#### fp_gbt -> Store False Positive\n",
    "#### fn_gbt -> Store False Negative\n",
    "#### precision_gbt -> Precision \n",
    "#### recall_gbt -> Recall\n",
    "#### f1score_gbt -> F1 Score "
   ]
  },
  {
   "cell_type": "code",
   "execution_count": 92,
   "metadata": {},
   "outputs": [],
   "source": [
    "tp_gbt = gbt_predictions[(gbt_predictions.RainTomorrow_index == 1.0) & (gbt_predictions.prediction == 1.0)].count()\n",
    "tn_gbt = gbt_predictions[(gbt_predictions.RainTomorrow_index == 0.0) & (gbt_predictions.prediction == 0.0)].count()\n",
    "fp_gbt = gbt_predictions[(gbt_predictions.RainTomorrow_index == 0.0) & (gbt_predictions.prediction == 1.0)].count()\n",
    "fn_gbt = gbt_predictions[(gbt_predictions.RainTomorrow_index == 1.0) & (gbt_predictions.prediction == 0.0)].count()"
   ]
  },
  {
   "cell_type": "code",
   "execution_count": 93,
   "metadata": {},
   "outputs": [
    {
     "name": "stdout",
     "output_type": "stream",
     "text": [
      "True Positive:  4758\n",
      "True Negative:  31551\n",
      "False Positive:  1727\n",
      "False Negative:  4874\n",
      "Total:  42910\n"
     ]
    }
   ],
   "source": [
    "print (\"True Positive: \",tp_gbt)\n",
    "print (\"True Negative: \",tn_gbt)\n",
    "print (\"False Positive: \",fp_gbt)\n",
    "print (\"False Negative: \",fn_gbt)\n",
    "print (\"Total: \",gbt_predictions.count())"
   ]
  },
  {
   "cell_type": "code",
   "execution_count": 94,
   "metadata": {},
   "outputs": [],
   "source": [
    "precision_gbt = float(tp_gbt)/(tp_gbt+fp_gbt)\n",
    "recall_gbt = float(tp_gbt)/(tp_gbt+fn_gbt)\n",
    "f1score_gbt = (2*((precision_gbt*recall_gbt)/(precision_gbt+recall_gbt)))"
   ]
  },
  {
   "cell_type": "code",
   "execution_count": 95,
   "metadata": {},
   "outputs": [
    {
     "name": "stdout",
     "output_type": "stream",
     "text": [
      "GBTClassifier - Precision:  0.7336931380107942\n",
      "GBTClassifier - Recall:  0.4939784053156146\n",
      "GBTClassifier - F1 Score:  0.5904324626171124\n"
     ]
    }
   ],
   "source": [
    "print (\"GBTClassifier - Precision: \",precision_gbt)\n",
    "print (\"GBTClassifier - Recall: \",recall_gbt)\n",
    "print (\"GBTClassifier - F1 Score: \",f1score_gbt)"
   ]
  },
  {
   "cell_type": "markdown",
   "metadata": {},
   "source": [
    "## How to improve the accuracy of the prediction:"
   ]
  },
  {
   "cell_type": "markdown",
   "metadata": {},
   "source": [
    "### 1. Improve prediction accuracy with data:\n",
    "    By getting better quality more data, we can improve our training model and prediction accuracy.\n",
    "To get better and accurate model we can add more data.  It might not be easy to increase the training data in the data science competitions but during doing real life project I would suggest to ask for more data . If it is not possible to get new data we can generate new data. We can augment or permute existing data or use a probabilistic model to generate new data.\n",
    "\n",
    "### 2. Algorithm Tuning\n",
    "    Since the ML algorithms are driven by parameters. The outcome of learning process is influenced by these parameters. The main goal of parameter tuning is to figure out the optimum value for each parameter to bring some improvement of the accuracy of the model. \n",
    "\n",
    "### 3. Ensemble methods\n",
    "    In this technique the predictions  of multiple models are combined to produce better results. This is one of the big areas for improvement after algorithm tuning.  It can be achieved by doing Bagging (Bootstrap Aggregating) or Boosting\n"
   ]
  },
  {
   "cell_type": "markdown",
   "metadata": {},
   "source": [
    "### Reference: \n",
    "     Jason Brownlee PhD, May 22, 2019  \n",
    "        https://machinelearningmastery.com/machine-learning-performance-improvement-cheat-sheet/"
   ]
  },
  {
   "cell_type": "code",
   "execution_count": null,
   "metadata": {},
   "outputs": [],
   "source": []
  }
 ],
 "metadata": {
  "kernelspec": {
   "display_name": "Python 3",
   "language": "python",
   "name": "python3"
  },
  "language_info": {
   "codemirror_mode": {
    "name": "ipython",
    "version": 3
   },
   "file_extension": ".py",
   "mimetype": "text/x-python",
   "name": "python",
   "nbconvert_exporter": "python",
   "pygments_lexer": "ipython3",
   "version": "3.6.8"
  }
 },
 "nbformat": 4,
 "nbformat_minor": 2
}
