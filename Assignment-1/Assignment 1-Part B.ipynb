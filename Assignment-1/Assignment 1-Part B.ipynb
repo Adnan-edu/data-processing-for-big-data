{
 "cells": [
  {
   "cell_type": "code",
   "execution_count": 1,
   "metadata": {},
   "outputs": [],
   "source": [
    "import os\n",
    "os.environ['PYSPARK_SUBMIT_ARGS'] = '--packages org.mongodb.spark:mongo-spark-connector_2.11:2.4.0 pyspark-shell'\n",
    "# create entry points to spark\n",
    "from pyspark import SparkContext # Spark\n",
    "from pyspark.sql import SparkSession # Spark SQL\n",
    "\n",
    "# We add this line to avoid an error : \"Cannot run multiple SparkContexts at once\". \n",
    "# If there is an existing spark context, we will reuse it instead of creating a new context.\n",
    "sc = SparkContext.getOrCreate()\n",
    "\n",
    "# If there is no existing spark context, we now create a new context\n",
    "if (sc is None):\n",
    "    sc = SparkContext(master=\"local[*]\", appName=\"Assignment 1-Part B\")\n",
    "spark = SparkSession(sparkContext=sc)\\\n",
    "        .builder\\\n",
    "        .appName(\"MongoDB and Apache Spark Part B\")\\\n",
    "        .config(\"spark.jars.packages\", \"org.mongodb.spark:mongo-spark-connector_2.11:2.4.0\")\\\n",
    "        .config(\"spark.mongodb.input.uri\", \"mongodb://127.0.0.1/fit5202_db.partb_coll\")\\\n",
    "        .config(\"spark.mongodb.output.uri\", \"mongodb://127.0.0.1/fit5202_db.partb_coll\")\\\n",
    "        .getOrCreate()"
   ]
  },
  {
   "cell_type": "markdown",
   "metadata": {},
   "source": [
    "# Step 02: Create Dataframe"
   ]
  },
  {
   "cell_type": "markdown",
   "metadata": {},
   "source": [
    "### We will read Crime_Statistics_SA_2010_present.csv file. To create a DataFrame, we will use a SparkSession object created earlier called spark\n",
    "### header=True means that very first row in the csv file are actually the column names\n",
    "### No of records in the dataframe df using count()\n",
    "### inferSchema - infers the input schema automatically from data. If none is set, it uses the default value False"
   ]
  },
  {
   "cell_type": "code",
   "execution_count": 3,
   "metadata": {},
   "outputs": [
    {
     "name": "stdout",
     "output_type": "stream",
     "text": [
      "727408\n"
     ]
    }
   ],
   "source": [
    "df = spark.read.csv('Crime_Statistics_SA_2010_present.csv',inferSchema=True, header=True)\n",
    "#No of records in the dataframe df\n",
    "print(df.count())"
   ]
  },
  {
   "cell_type": "markdown",
   "metadata": {},
   "source": [
    "# Step 03: Write to Database\n",
    "### We can write df dataframe to MongoDB database and collection specified in the spark.mongodb.output.uri option by using the write method. "
   ]
  },
  {
   "cell_type": "code",
   "execution_count": 4,
   "metadata": {},
   "outputs": [],
   "source": [
    "# Write to MongoDB\n",
    "df.write.format(\"com.mongodb.spark.sql.DefaultSource\").mode(\"overwrite\").save()"
   ]
  },
  {
   "cell_type": "markdown",
   "metadata": {},
   "source": [
    "# Step 04: Read from Database\n",
    "### From the spark session object we can use read() method to read data from MongoDB. The result will be a dataframe"
   ]
  },
  {
   "cell_type": "code",
   "execution_count": 5,
   "metadata": {},
   "outputs": [],
   "source": [
    "# Fetching data from mongodb collection\n",
    "df_read = spark.read.format(\"com.mongodb.spark.sql.DefaultSource\").load()"
   ]
  },
  {
   "cell_type": "markdown",
   "metadata": {},
   "source": [
    "### Displaying the schema of the data frame df\n",
    "### printSchema() method prints out the dataframe df schema"
   ]
  },
  {
   "cell_type": "code",
   "execution_count": 7,
   "metadata": {},
   "outputs": [
    {
     "name": "stdout",
     "output_type": "stream",
     "text": [
      "root\n",
      " |-- Offence Count: integer (nullable = true)\n",
      " |-- Offence Level 1 Description: string (nullable = true)\n",
      " |-- Offence Level 2 Description: string (nullable = true)\n",
      " |-- Offence Level 3 Description: string (nullable = true)\n",
      " |-- Postcode - Incident: string (nullable = true)\n",
      " |-- Reported Date: string (nullable = true)\n",
      " |-- Suburb - Incident: string (nullable = true)\n",
      " |-- _id: struct (nullable = true)\n",
      " |    |-- oid: string (nullable = true)\n",
      "\n"
     ]
    }
   ],
   "source": [
    "df_read.printSchema()"
   ]
  },
  {
   "cell_type": "markdown",
   "metadata": {},
   "source": [
    "# Step 05: Calculate the statistics of numeric and string columns\n",
    "### If we want to have a look at the statistical summary of any particular column of a dataframe, we can use describe() method. If not specified, it shows the statistical summary of the dataframe. \n",
    "#### For 'Offence Count' column "
   ]
  },
  {
   "cell_type": "code",
   "execution_count": 8,
   "metadata": {},
   "outputs": [
    {
     "name": "stdout",
     "output_type": "stream",
     "text": [
      "+-------+------------------+\n",
      "|summary|     Offence Count|\n",
      "+-------+------------------+\n",
      "|  count|            727407|\n",
      "|   mean|1.1715174585892079|\n",
      "| stddev|0.5787050930378146|\n",
      "|    min|                 1|\n",
      "|    max|                28|\n",
      "+-------+------------------+\n",
      "\n"
     ]
    }
   ],
   "source": [
    "# For computing summary statistics\n",
    "df.describe('Offence Count').show();"
   ]
  },
  {
   "cell_type": "markdown",
   "metadata": {},
   "source": [
    "#### For 'Reported Date' column"
   ]
  },
  {
   "cell_type": "code",
   "execution_count": 9,
   "metadata": {},
   "outputs": [
    {
     "name": "stdout",
     "output_type": "stream",
     "text": [
      "+-------+-------------+\n",
      "|summary|Reported Date|\n",
      "+-------+-------------+\n",
      "|  count|       727407|\n",
      "|   mean|         null|\n",
      "| stddev|         null|\n",
      "|    min|    1/01/2011|\n",
      "|    max|    9/12/2018|\n",
      "+-------+-------------+\n",
      "\n"
     ]
    }
   ],
   "source": [
    "df.describe('Reported Date').show();"
   ]
  },
  {
   "cell_type": "markdown",
   "metadata": {},
   "source": [
    "### Explanation: From the above statistics for the 'Reported Date' column, minimum and maximum reported date is not correct. Because 'Reported Date' column is string type. When the data type will be converted to date format then we would get the correct minimum and maximum date."
   ]
  },
  {
   "cell_type": "markdown",
   "metadata": {},
   "source": [
    "# Step 06: Change the data type of a column\n",
    "### You can drop the rows containing any null or NaN values using dataframe.na.drop()\n",
    "### In step 8, when I tried to do date related operation, I did get some error for null or NaN values. Additionally, in the assessment discussion, paras told us to get rid of null values.\n",
    "\n",
    "### https://lms.monash.edu/mod/forum/discuss.php?d=1717360"
   ]
  },
  {
   "cell_type": "code",
   "execution_count": 10,
   "metadata": {},
   "outputs": [],
   "source": [
    "from datetime import datetime\n",
    "from pyspark.sql.functions import col, udf\n",
    "from pyspark.sql.types import DateType\n",
    "df = df.na.drop()"
   ]
  },
  {
   "cell_type": "markdown",
   "metadata": {},
   "source": [
    "### udf is a feature of spark sql to define new column based function\n",
    "### strptime() method creates a datetime object from a given string. But the string needs to be in a certain format.\n",
    "### strptime() takes two arguments. One is string (that be converted to datetime) and another one is format code."
   ]
  },
  {
   "cell_type": "code",
   "execution_count": 11,
   "metadata": {},
   "outputs": [],
   "source": [
    "dateFunc =  udf (lambda x: datetime.strptime(x, '%d/%m/%Y'), DateType())"
   ]
  },
  {
   "cell_type": "code",
   "execution_count": 12,
   "metadata": {},
   "outputs": [],
   "source": [
    "df = df.withColumn('Reported Date', dateFunc(col('Reported Date')))"
   ]
  },
  {
   "cell_type": "markdown",
   "metadata": {},
   "source": [
    "# Step 07: Preliminary data analysis\n",
    "### No of level 2 offences\n",
    "#### Here I'm selecting the distinct values of the 'Offence Level 2 Description' column which would provide the number of level 2 offences."
   ]
  },
  {
   "cell_type": "code",
   "execution_count": 16,
   "metadata": {},
   "outputs": [
    {
     "name": "stdout",
     "output_type": "stream",
     "text": [
      "Total number of level 2 offence:  9\n"
     ]
    }
   ],
   "source": [
    "level2 = df.select('Offence Level 2 Description').distinct().collect()\n",
    "print(\"Total number of level 2 offence: \",len(level2))"
   ]
  },
  {
   "cell_type": "markdown",
   "metadata": {},
   "source": [
    "### * symbol is used to print the list elements in a single line with space. To print all elements in new lines we have use sep = \"\\n\". Previously full column content is not visible properly. That's why I used this "
   ]
  },
  {
   "cell_type": "code",
   "execution_count": 18,
   "metadata": {},
   "outputs": [
    {
     "name": "stdout",
     "output_type": "stream",
     "text": [
      "Row(Offence Level 2 Description='ROBBERY AND RELATED OFFENCES')\n",
      "Row(Offence Level 2 Description='PROPERTY DAMAGE AND ENVIRONMENTAL')\n",
      "Row(Offence Level 2 Description='SEXUAL ASSAULT AND RELATED OFFENCES')\n",
      "Row(Offence Level 2 Description='HOMICIDE AND RELATED OFFENCES')\n",
      "Row(Offence Level 2 Description='ACTS INTENDED TO CAUSE INJURY')\n",
      "Row(Offence Level 2 Description='SERIOUS CRIMINAL TRESPASS')\n",
      "Row(Offence Level 2 Description='OTHER OFFENCES AGAINST THE PERSON')\n",
      "Row(Offence Level 2 Description='FRAUD DECEPTION AND RELATED OFFENCES')\n",
      "Row(Offence Level 2 Description='THEFT AND RELATED OFFENCES')\n"
     ]
    }
   ],
   "source": [
    "#Displaying the list of level 2 offences\n",
    "print(*level2,sep = \"\\n\")"
   ]
  },
  {
   "cell_type": "markdown",
   "metadata": {},
   "source": [
    "### Number of offences against the person in 'Offence Level 2 Description' column\n",
    "#### Here dataframe is filtered with the checking that is 'Offence Level 2 Description' column contain value 'OFFENCES AGAINST THE PERSON' At the end count returns the no of rows that the condition fulfil"
   ]
  },
  {
   "cell_type": "code",
   "execution_count": 17,
   "metadata": {},
   "outputs": [
    {
     "data": {
      "text/plain": [
       "155909"
      ]
     },
     "execution_count": 17,
     "metadata": {},
     "output_type": "execute_result"
    }
   ],
   "source": [
    "df.filter(df['Offence Level 1 Description'] == 'OFFENCES AGAINST THE PERSON' ).count()"
   ]
  },
  {
   "cell_type": "markdown",
   "metadata": {},
   "source": [
    "### Number of offences against the person in 'Offence Level 2 Description' column"
   ]
  },
  {
   "cell_type": "code",
   "execution_count": 20,
   "metadata": {},
   "outputs": [
    {
     "data": {
      "text/plain": [
       "0"
      ]
     },
     "execution_count": 20,
     "metadata": {},
     "output_type": "execute_result"
    }
   ],
   "source": [
    "df.filter(df['Offence Level 2 Description'] == 'OFFENCES AGAINST THE PERSON' ).count()"
   ]
  },
  {
   "cell_type": "markdown",
   "metadata": {},
   "source": [
    "## serious criminal tresspasses with more than 1 offence count\n",
    "### At first  it is checked that 'Offence Level 2 Description' column contains value 'SERIOUS CRIMINAL TRESPASS' and if first condition is true then it checks another column 'Offence Count' contains value greater than one."
   ]
  },
  {
   "cell_type": "code",
   "execution_count": 18,
   "metadata": {},
   "outputs": [
    {
     "data": {
      "text/plain": [
       "8574"
      ]
     },
     "execution_count": 18,
     "metadata": {},
     "output_type": "execute_result"
    }
   ],
   "source": [
    "df.filter((df['Offence Level 2 Description'] == 'SERIOUS CRIMINAL TRESPASS') & (df['Offence Count'] > 1)).count()"
   ]
  },
  {
   "cell_type": "markdown",
   "metadata": {},
   "source": [
    "### Same concept for 'Offence Level 1 Description' column"
   ]
  },
  {
   "cell_type": "code",
   "execution_count": 22,
   "metadata": {},
   "outputs": [
    {
     "data": {
      "text/plain": [
       "0"
      ]
     },
     "execution_count": 22,
     "metadata": {},
     "output_type": "execute_result"
    }
   ],
   "source": [
    "df.filter((df['Offence Level 1 Description'] == 'SERIOUS CRIMINAL TRESPASS') & (df['Offence Count'] > 1)).count()"
   ]
  },
  {
   "cell_type": "markdown",
   "metadata": {},
   "source": [
    "## percentage of crimes are offences against the property"
   ]
  },
  {
   "cell_type": "code",
   "execution_count": 19,
   "metadata": {},
   "outputs": [
    {
     "name": "stdout",
     "output_type": "stream",
     "text": [
      "percentage of crimes are offences against the property:  78.55213977860042\n"
     ]
    }
   ],
   "source": [
    "against_property = df.filter(df['Offence Level 1 Description'] == 'OFFENCES AGAINST PROPERTY' ).count()\n",
    "total = df.select('Offence Level 1 Description').count()\n",
    "percentage = ((against_property*100) / total)\n",
    "print(\"percentage of crimes are offences against the property: \",percentage)"
   ]
  },
  {
   "cell_type": "markdown",
   "metadata": {},
   "source": [
    "### Here against_property contains the number of crimes which are offences againt the property. total contains the number of rows in the 'Offence Level 1 Description' column. percentage contains the percentage of crimes are offences against the property. I am considering per row denotes one crime."
   ]
  },
  {
   "cell_type": "markdown",
   "metadata": {},
   "source": [
    "# Step 08: Exploratory data analysis"
   ]
  },
  {
   "cell_type": "markdown",
   "metadata": {},
   "source": [
    "## Find the number of crimes per year\n",
    "### I am selecting two columns 'Reported Date' and 'Offence Count'. year('Reported Date') fetching only the year from the actual date and then groupping the data by year. We can consider number of crimes two ways. Whether it is offence count or per row denotes one crime. In the following section I will use both sum if I consider 'Offence Count' and count if I consider per row denotes one crime. "
   ]
  },
  {
   "cell_type": "code",
   "execution_count": 27,
   "metadata": {},
   "outputs": [
    {
     "data": {
      "text/plain": [
       "[Row(Year=2010, sum=61382),\n",
       " Row(Year=2011, sum=122176),\n",
       " Row(Year=2012, sum=112953),\n",
       " Row(Year=2013, sum=106761),\n",
       " Row(Year=2014, sum=101727),\n",
       " Row(Year=2015, sum=105628),\n",
       " Row(Year=2016, sum=107566),\n",
       " Row(Year=2017, sum=50144),\n",
       " Row(Year=2018, sum=55570),\n",
       " Row(Year=2019, sum=27753)]"
      ]
     },
     "execution_count": 27,
     "metadata": {},
     "output_type": "execute_result"
    }
   ],
   "source": [
    "from pyspark.sql.functions import year\n",
    "# Find the number of crimes per year\n",
    "crimes_peryear = df.select('Reported Date','Offence Count').groupBy(year('Reported Date').alias('Year')).sum().withColumnRenamed('sum(Offence Count)','sum').orderBy('Year').collect()\n",
    "crimes_peryear"
   ]
  },
  {
   "cell_type": "code",
   "execution_count": 29,
   "metadata": {},
   "outputs": [],
   "source": [
    "import matplotlib.pyplot as plt\n",
    "%matplotlib inline"
   ]
  },
  {
   "cell_type": "code",
   "execution_count": 26,
   "metadata": {},
   "outputs": [
    {
     "data": {
      "image/png": "[encoded data removed]",
      "text/plain": [
       "<Figure size 432x288 with 1 Axes>"
      ]
     },
     "metadata": {
      "needs_background": "light"
     },
     "output_type": "display_data"
    }
   ],
   "source": [
    "# prepare data\n",
    "y_axis = [row['sum'] for row in crimes_peryear]\n",
    "\n",
    "# plot\n",
    "bar_width = 0.5\n",
    "objects= ([row['Year'] for row in crimes_peryear])\n",
    "y_pos = np.arange(len(objects))\n",
    "\n",
    "plt.bar(y_pos, y_axis, bar_width, align='center', color='C0')\n",
    "plt.xticks(y_pos, objects)\n",
    "plt.xlabel('Year')\n",
    "plt.ylabel('Sum of Crimes Per Year')\n",
    "plt.title('How many crimes per year')\n",
    "plt.tight_layout()\n",
    "plt.show()"
   ]
  },
  {
   "cell_type": "markdown",
   "metadata": {},
   "source": [
    "### The above bar graph illustrates the amount of crimes per year. Overall, in 2011 crimes did occur than any other year from 2010 to 2019. After 2010 crimes suddenly jumped to 122176 which is approximately double of 2010. After 2011, crimes decreased slowly until it is 2015. From 2015 to 2016 crimes increased a little bit. After 2016, crimes suddenly dropped in the next year 2017. In the current year 2019, crimes are much less compared to any other year. \n",
    "### In the following section if I consider per row as one crime - count() method is used"
   ]
  },
  {
   "cell_type": "code",
   "execution_count": 28,
   "metadata": {},
   "outputs": [
    {
     "data": {
      "text/plain": [
       "[Row(Year=2010, count=51800),\n",
       " Row(Year=2011, count=102838),\n",
       " Row(Year=2012, count=96041),\n",
       " Row(Year=2013, count=91354),\n",
       " Row(Year=2014, count=87658),\n",
       " Row(Year=2015, count=90936),\n",
       " Row(Year=2016, count=92036),\n",
       " Row(Year=2017, count=42961),\n",
       " Row(Year=2018, count=47522),\n",
       " Row(Year=2019, count=23775)]"
      ]
     },
     "execution_count": 28,
     "metadata": {},
     "output_type": "execute_result"
    }
   ],
   "source": [
    "from pyspark.sql.functions import year\n",
    "# Find the number of crimes per year\n",
    "crimes_peryear = df.select('Reported Date','Offence Count').groupBy(year('Reported Date').alias('Year')).count().orderBy('Year').collect()\n",
    "crimes_peryear"
   ]
  },
  {
   "cell_type": "code",
   "execution_count": 30,
   "metadata": {},
   "outputs": [
    {
     "data": {
      "image/png": "[encoded data removed]",
      "text/plain": [
       "<Figure size 432x288 with 1 Axes>"
      ]
     },
     "metadata": {
      "needs_background": "light"
     },
     "output_type": "display_data"
    }
   ],
   "source": [
    "import matplotlib.pyplot as plt\n",
    "%matplotlib inline\n",
    "\n",
    "# prepare data\n",
    "y_axis = [row['count'] for row in crimes_peryear]\n",
    "\n",
    "# plot\n",
    "bar_width = 0.5\n",
    "objects= ([row['Year'] for row in crimes_peryear])\n",
    "y_pos = np.arange(len(objects))\n",
    "\n",
    "plt.bar(y_pos, y_axis, bar_width, align='center', color='C0')\n",
    "plt.xticks(y_pos, objects)\n",
    "plt.xlabel('Year')\n",
    "plt.ylabel('Crimes Per Year')\n",
    "plt.title('How many crimes per year')\n",
    "plt.tight_layout()\n",
    "plt.show()"
   ]
  },
  {
   "cell_type": "markdown",
   "metadata": {},
   "source": [
    "### The above bar graph illustrates the amount of crimes per year. Overall, in 2011 crimes did occur than any other year from 2010 to 2019. After 2010 crimes suddenly jumped to 102838 which is approximately double of 2010. After 2011, crimes decreased slowly until it is 2015. From 2015 to 2016 crimes increased a little bit. After 2016, crimes suddenly dropped in the next year 2017. In the current year 2019, crimes are much less compared to any other year. "
   ]
  },
  {
   "cell_type": "markdown",
   "metadata": {},
   "source": [
    "## Find the number of crimes per month.\n",
    "### I am selecting two columns 'Reported Date' and 'Offence Count'. month('Reported Date') fetching only the month from the actual date and then groupping the data by month. We can consider number of crimes two ways. Whether it is offence count or per row denotes one crime. In the following section I will use both sum() if I consider 'Offence Count' and count() if I consider per row denotes one crime. "
   ]
  },
  {
   "cell_type": "code",
   "execution_count": 31,
   "metadata": {},
   "outputs": [
    {
     "data": {
      "text/plain": [
       "[Row(Month=1, sum=77434),\n",
       " Row(Month=2, sum=70373),\n",
       " Row(Month=3, sum=74876),\n",
       " Row(Month=4, sum=60027),\n",
       " Row(Month=5, sum=64231),\n",
       " Row(Month=6, sum=60678),\n",
       " Row(Month=7, sum=70907),\n",
       " Row(Month=8, sum=72799),\n",
       " Row(Month=9, sum=72552),\n",
       " Row(Month=10, sum=77119),\n",
       " Row(Month=11, sum=75129),\n",
       " Row(Month=12, sum=75535)]"
      ]
     },
     "execution_count": 31,
     "metadata": {},
     "output_type": "execute_result"
    }
   ],
   "source": [
    "from pyspark.sql.functions import month\n",
    "crimes_permonth = df.select('Reported Date','Offence Count').groupBy(month('Reported Date').alias('Month')).sum().withColumnRenamed('sum(Offence Count)','sum').orderBy('Month').collect()\n",
    "crimes_permonth"
   ]
  },
  {
   "cell_type": "code",
   "execution_count": 35,
   "metadata": {},
   "outputs": [],
   "source": [
    "import matplotlib.pyplot as plt\n",
    "%matplotlib inline"
   ]
  },
  {
   "cell_type": "code",
   "execution_count": 33,
   "metadata": {},
   "outputs": [
    {
     "data": {
      "image/png": "[encoded data removed]",
      "text/plain": [
       "<Figure size 432x288 with 1 Axes>"
      ]
     },
     "metadata": {
      "needs_background": "light"
     },
     "output_type": "display_data"
    }
   ],
   "source": [
    "# prepare data\n",
    "y_axis = [row['sum'] for row in crimes_permonth]\n",
    "\n",
    "# plot\n",
    "bar_width = 0.5\n",
    "objects= ([row['Month'] for row in crimes_permonth])\n",
    "y_pos = np.arange(len(objects))\n",
    "\n",
    "plt.bar(y_pos, y_axis, bar_width, align='center', color='C0')\n",
    "plt.xticks(y_pos, objects)\n",
    "plt.xlabel('Month')\n",
    "plt.ylabel('Sum of Crimes Per Month')\n",
    "plt.title('How many crimes per month?')\n",
    "plt.tight_layout()\n",
    "plt.show()"
   ]
  },
  {
   "cell_type": "markdown",
   "metadata": {},
   "source": [
    "### The above bar graph illustrates the amount of crimes per month. Overall, in January [Denotes 1] crimes did occur than any other months. From January to March(1 to 3) crimes did fluctuate a little bit. But in April(4) crimes dropped and it was arount 60000. From April to June (4-6) again crimes did fluctuate but in July(7) crimes started to increase again and remained steady from July to September (7-9). Again in October it did rise a little bit and did fluctuate a little bit till December(12). \n",
    "### In the following section if I consider per row as one crime - count() method is used"
   ]
  },
  {
   "cell_type": "code",
   "execution_count": 34,
   "metadata": {},
   "outputs": [
    {
     "data": {
      "text/plain": [
       "[Row(Month=1, count=65678),\n",
       " Row(Month=2, count=59912),\n",
       " Row(Month=3, count=63755),\n",
       " Row(Month=4, count=51388),\n",
       " Row(Month=5, count=55028),\n",
       " Row(Month=6, count=51901),\n",
       " Row(Month=7, count=60635),\n",
       " Row(Month=8, count=62509),\n",
       " Row(Month=9, count=62192),\n",
       " Row(Month=10, count=65568),\n",
       " Row(Month=11, count=64233),\n",
       " Row(Month=12, count=64122)]"
      ]
     },
     "execution_count": 34,
     "metadata": {},
     "output_type": "execute_result"
    }
   ],
   "source": [
    "from pyspark.sql.functions import month\n",
    "crimes_permonth = df.select('Reported Date','Offence Count').groupBy(month('Reported Date').alias('Month')).count().orderBy('Month').collect()\n",
    "crimes_permonth"
   ]
  },
  {
   "cell_type": "code",
   "execution_count": 37,
   "metadata": {},
   "outputs": [
    {
     "data": {
      "image/png": "[encoded data removed]",
      "text/plain": [
       "<Figure size 432x288 with 1 Axes>"
      ]
     },
     "metadata": {
      "needs_background": "light"
     },
     "output_type": "display_data"
    }
   ],
   "source": [
    "import matplotlib.pyplot as plt\n",
    "%matplotlib inline\n",
    "\n",
    "# prepare data\n",
    "y_axis = [row['count'] for row in crimes_permonth]\n",
    "\n",
    "# plot\n",
    "bar_width = 0.5\n",
    "objects= ([row['Month'] for row in crimes_permonth])\n",
    "y_pos = np.arange(len(objects))\n",
    "\n",
    "plt.bar(y_pos, y_axis, bar_width, align='center', color='C0')\n",
    "plt.xticks(y_pos, objects)\n",
    "plt.xlabel('Month')\n",
    "plt.ylabel('Crimes Per Month')\n",
    "plt.title('How many crimes per month?')\n",
    "plt.tight_layout()\n",
    "plt.show()"
   ]
  },
  {
   "cell_type": "markdown",
   "metadata": {},
   "source": [
    "### The above bar graph illustrates the amount of crimes per month. Overall, in January [Denotes 1] crimes did occur than any other months. From January to March(1 to 3) crimes did fluctuate. But in April(4) crimes dropped and it was above 50000. From April to June (4-6) again crimes did fluctuate but in July(7) crimes started to increase again and remained steady from July to September (7-9). Again in October it did rise a little bit and did fluctuate a little bit till December(12). "
   ]
  },
  {
   "cell_type": "markdown",
   "metadata": {},
   "source": [
    "## Top 20 suburbs where most crimes take place\n",
    "### Here Four columns are selected and then they are groupped based on 'Suburb - Incident','Postcode - Incident'. I am considering Offence Count denotes crime that's why I used sum."
   ]
  },
  {
   "cell_type": "code",
   "execution_count": 46,
   "metadata": {},
   "outputs": [
    {
     "name": "stdout",
     "output_type": "stream",
     "text": [
      "ADELAIDE-5000 -> 46701\n",
      "PORT AUGUSTA-5700 -> 13711\n",
      "MOUNT GAMBIER-5290 -> 13709\n",
      "MURRAY BRIDGE-5253 -> 12919\n",
      "MORPHETT VALE-5162 -> 12569\n",
      "SALISBURY-5108 -> 10806\n",
      "PORT LINCOLN-5606 -> 10779\n",
      "ELIZABETH-5112 -> 10731\n",
      "NOT DISCLOSED-NOT DISCLOSED -> 9375\n",
      "DAVOREN PARK-5113 -> 8082\n",
      "PARAFIELD GARDENS-5107 -> 8040\n",
      "OAKLANDS PARK-5046 -> 7792\n",
      "PARALOWIE-5108 -> 7261\n",
      "PROSPECT-5082 -> 7234\n",
      "PORT PIRIE-5540 -> 7155\n",
      "MODBURY-5092 -> 7041\n",
      "SMITHFIELD-5114 -> 7000\n",
      "SALISBURY NORTH-5108 -> 6538\n",
      "WHYALLA STUART-5608 -> 6297\n",
      "MAWSON LAKES-5095 -> 6103\n"
     ]
    }
   ],
   "source": [
    "crime_suburbs = df.select('Reported Date','Offence Count','Suburb - Incident','Postcode - Incident').groupBy('Suburb - Incident','Postcode - Incident').sum().withColumnRenamed('sum(Offence Count)','sum').orderBy('sum',ascending=False).take(20)\n",
    "displayCrimes= ([\"{}-{} -> {}\".format(row['Suburb - Incident'],row['Postcode - Incident'],row['sum']) for row in crime_suburbs])\n",
    "print(*displayCrimes,sep = \"\\n\")"
   ]
  },
  {
   "cell_type": "code",
   "execution_count": 51,
   "metadata": {},
   "outputs": [],
   "source": [
    "import matplotlib.pyplot as plt\n",
    "%matplotlib inline"
   ]
  },
  {
   "cell_type": "code",
   "execution_count": 52,
   "metadata": {},
   "outputs": [
    {
     "data": {
      "image/png": "[encoded data removed]",
      "text/plain": [
       "<Figure size 432x288 with 1 Axes>"
      ]
     },
     "metadata": {
      "needs_background": "light"
     },
     "output_type": "display_data"
    }
   ],
   "source": [
    "# prepare data\n",
    "y_axis = [row['sum'] for row in crime_suburbs]\n",
    "\n",
    "# plot\n",
    "bar_width = 0.5\n",
    "objects= ([row for row in range(len(crime_suburbs))])\n",
    "y_pos = np.arange(len(objects))\n",
    "\n",
    "plt.bar(y_pos, y_axis, bar_width, align='center', color='C0')\n",
    "\n",
    "plt.xticks(y_pos)\n",
    "plt.xlabel('Suburb-Postcode Incident')\n",
    "plt.ylabel('Count of Crimes')\n",
    "plt.title('Top 20 Suburb-Postcode where most crimes take place')\n",
    "plt.tight_layout()\n",
    "plt.show()"
   ]
  },
  {
   "cell_type": "markdown",
   "metadata": {},
   "source": [
    "### The above bar graph illustrates the amount of crimes in the top twenty suburbs. Suburb with postcode ADELAIDE-5000 is denoted 0 in the bar graph. Overall, in the suburb ADELAIDE-5000 which is 0 in the x axis, in where crimes did occur than any other suburbs. In the remaining suburbs crimes did happen very less comared to first suburbs. From PORT AUGUSTA-5700 (1) to the rest of the suburbs, crimes declined slowly. From suburb SALISBURY NORTH-5108 (17) to MAWSON LAKES-5095 (19) crimes remained steady and didn't change much."
   ]
  },
  {
   "cell_type": "markdown",
   "metadata": {},
   "source": [
    "### In the following section if I consider per row as one crime - count() method is used"
   ]
  },
  {
   "cell_type": "code",
   "execution_count": 55,
   "metadata": {},
   "outputs": [
    {
     "name": "stdout",
     "output_type": "stream",
     "text": [
      "ADELAIDE-5000 -> 21684\n",
      "MOUNT GAMBIER-5290 -> 10000\n",
      "PORT AUGUSTA-5700 -> 9619\n",
      "MORPHETT VALE-5162 -> 9548\n",
      "MURRAY BRIDGE-5253 -> 9423\n",
      "NOT DISCLOSED-NOT DISCLOSED -> 8939\n",
      "SALISBURY-5108 -> 8332\n",
      "PORT LINCOLN-5606 -> 7848\n",
      "ELIZABETH-5112 -> 7686\n",
      "PARAFIELD GARDENS-5107 -> 6640\n",
      "DAVOREN PARK-5113 -> 6519\n",
      "PARALOWIE-5108 -> 6084\n",
      "PROSPECT-5082 -> 5927\n",
      "PORT PIRIE-5540 -> 5772\n",
      "OAKLANDS PARK-5046 -> 5668\n",
      "MODBURY-5092 -> 5537\n",
      "SALISBURY NORTH-5108 -> 5492\n",
      "SMITHFIELD-5114 -> 5412\n",
      "WHYALLA STUART-5608 -> 5106\n",
      "MAWSON LAKES-5095 -> 4863\n"
     ]
    }
   ],
   "source": [
    "crime_suburbs = df.select('Reported Date','Offence Count','Suburb - Incident','Postcode - Incident').groupBy('Suburb - Incident','Postcode - Incident').count().orderBy('count',ascending=False).take(20)\n",
    "displayCrimes= ([\"{}-{} -> {}\".format(row['Suburb - Incident'],row['Postcode - Incident'],row['count']) for row in crime_suburbs])\n",
    "print(*displayCrimes,sep = \"\\n\")"
   ]
  },
  {
   "cell_type": "code",
   "execution_count": 56,
   "metadata": {},
   "outputs": [
    {
     "data": {
      "image/png": "[encoded data removed]",
      "text/plain": [
       "<Figure size 432x288 with 1 Axes>"
      ]
     },
     "metadata": {
      "needs_background": "light"
     },
     "output_type": "display_data"
    }
   ],
   "source": [
    "import matplotlib.pyplot as plt\n",
    "%matplotlib inline\n",
    "\n",
    "# prepare data\n",
    "y_axis = [row['count'] for row in crime_suburbs]\n",
    "\n",
    "# plot\n",
    "bar_width = 0.5\n",
    "objects= ([row for row in range(len(crime_suburbs))])\n",
    "y_pos = np.arange(len(objects))\n",
    "\n",
    "plt.bar(y_pos, y_axis, bar_width, align='center', color='C0')\n",
    "\n",
    "plt.xticks(y_pos)\n",
    "plt.xlabel('Suburb-Postcode Incident')\n",
    "plt.ylabel('Count of Crimes')\n",
    "plt.title('Top 20 Suburb-Postcode where most crimes take place')\n",
    "plt.tight_layout()\n",
    "plt.show()"
   ]
  },
  {
   "cell_type": "markdown",
   "metadata": {},
   "source": [
    "### The above bar graph illustrates the amount of crimes in the top twenty suburbs. Suburb with postcode ADELAIDE-5000 is denoted 0 in the bar graph. Overall, in the suburb ADELAIDE-5000 which is 0 in the x axis, in where crimes did occur than any other suburbs. In the remaining suburbs crimes did happen very less comared to first suburbs. From MOUNT GAMBIER-5290 (1) to the rest of the suburbs, crimes declined slowly. From suburb SMITHFIELD-5114 (17) to MAWSON LAKES-5095 (19) crimes remained steady and didn't change much."
   ]
  },
  {
   "cell_type": "markdown",
   "metadata": {},
   "source": [
    "## Find the number of serious criminal trespasses by day and month."
   ]
  },
  {
   "cell_type": "code",
   "execution_count": 57,
   "metadata": {},
   "outputs": [],
   "source": [
    "from pyspark.sql.functions import month\n",
    "trespasses_monthdf = df.filter(df['Offence Level 2 Description'] == 'SERIOUS CRIMINAL TRESPASS' ).groupBy(month('Reported Date').alias('Month')).count().orderBy('Month').collect()"
   ]
  },
  {
   "cell_type": "markdown",
   "metadata": {},
   "source": [
    "#### dayofmonth(col) - It extracts the day of the month of a given date as intege\n",
    "#### Here we are filtering the data in the column 'Offence Level 2 Description' getting only the data 'SERIOUS CRIMINAL TRESPASS' and then grouping based on day of the month of a given date."
   ]
  },
  {
   "cell_type": "code",
   "execution_count": 58,
   "metadata": {},
   "outputs": [],
   "source": [
    "from pyspark.sql.functions import dayofmonth\n",
    "trespasses_daydf = df.filter(df['Offence Level 2 Description'] == 'SERIOUS CRIMINAL TRESPASS' ).groupBy(dayofmonth('Reported Date').alias('Day')).count().orderBy('Day').collect()"
   ]
  },
  {
   "cell_type": "markdown",
   "metadata": {},
   "source": [
    "### In the question they told to plot a graph. From lecture slide 34 of data visualization from the second point          - If the points are color coded one additional variable can be displayed. \n",
    "### In the assessment discussion paras told to see the lecture slide and it is possible to draw the graph within one plot. That's why I have used scatter plot."
   ]
  },
  {
   "cell_type": "code",
   "execution_count": 66,
   "metadata": {},
   "outputs": [
    {
     "data": {
      "image/png": "[encoded data removed]",
      "text/plain": [
       "<Figure size 432x288 with 1 Axes>"
      ]
     },
     "metadata": {
      "needs_background": "light"
     },
     "output_type": "display_data"
    }
   ],
   "source": [
    "import matplotlib.pyplot as plt\n",
    "%matplotlib inline\n",
    "\n",
    "# prepare data\n",
    "fare_1 = [row['Month'] for row in trespasses_monthdf]\n",
    "age_1 = [row['count'] for row in trespasses_monthdf]\n",
    "fare_0 = [row['Day'] for row in trespasses_daydf]\n",
    "age_0 = [row['count'] for row in trespasses_daydf]\n",
    "\n",
    "# plot\n",
    "plt.scatter(fare_1, age_1, c='C0', label='Month')\n",
    "plt.scatter(fare_0, age_0, c='C1', label='Day')\n",
    "plt.xlabel('Month[1-12] & Day[1-31]')\n",
    "plt.ylabel('Number of serious criminal trespasses')\n",
    "plt.legend(loc='upper right')\n",
    "plt.title('Number of serious criminal trespasses by day and month.')\n",
    "plt.tight_layout()\n",
    "plt.show()"
   ]
  },
  {
   "cell_type": "markdown",
   "metadata": {},
   "source": [
    "### The above scatter plot illustrates the amount of number of serious criminal trespasses in days and months. In the X-axis 1 to 12 represents for the months and in the same axis 1 to 31 represents for the day. \n",
    "### If day is considered first then I woud say number of serious criminal trespasses remained steady and didn't change much and at the last day of a month serious criminal trespasses  was much low compared to any other day. \n",
    "### If month is considered then, when the months increase from Jan to July, no of serious criminal trespasses  did decrease and fluctuate. The relationship is not strong from the month Jan to July. No results are very far from each other. If we want to make a cluster for months, we can make three cluster for month Jan to Mar, Apr to Jun and rest of the months to another cluster. From July to december serious criminal trespasses did increase slowly and last two months remained steady. \n",
    "\n",
    "## Additional: We can plot two separate bar chart for months and days"
   ]
  },
  {
   "cell_type": "code",
   "execution_count": 68,
   "metadata": {},
   "outputs": [
    {
     "data": {
      "image/png": "[encoded data removed]",
      "text/plain": [
       "<Figure size 432x288 with 1 Axes>"
      ]
     },
     "metadata": {
      "needs_background": "light"
     },
     "output_type": "display_data"
    }
   ],
   "source": [
    "import matplotlib.pyplot as plt\n",
    "%matplotlib inline\n",
    "\n",
    "# prepare data\n",
    "y_axis = [row['count'] for row in trespasses_monthdf]\n",
    "\n",
    "# plot\n",
    "bar_width = 0.5\n",
    "objects= ([row for row in range(len(trespasses_monthdf))])\n",
    "y_pos = np.arange(len(objects))\n",
    "\n",
    "plt.bar(y_pos, y_axis, bar_width, align='center', color='C0')\n",
    "\n",
    "plt.xticks(y_pos)\n",
    "plt.xlabel('Month')\n",
    "plt.ylabel('Number of serious criminal trespasses')\n",
    "plt.title('Number of serious criminal trespasses by months')\n",
    "plt.tight_layout()\n",
    "plt.show()"
   ]
  },
  {
   "cell_type": "code",
   "execution_count": 70,
   "metadata": {},
   "outputs": [
    {
     "data": {
      "image/png": "[encoded data removed]",
      "text/plain": [
       "<Figure size 432x288 with 1 Axes>"
      ]
     },
     "metadata": {
      "needs_background": "light"
     },
     "output_type": "display_data"
    }
   ],
   "source": [
    "import matplotlib.pyplot as plt\n",
    "%matplotlib inline\n",
    "\n",
    "# prepare data\n",
    "y_axis = [row['count'] for row in trespasses_daydf]\n",
    "\n",
    "# plot\n",
    "bar_width = 0.5\n",
    "objects= ([row for row in range(len(trespasses_daydf))])\n",
    "y_pos = np.arange(len(objects))\n",
    "\n",
    "plt.bar(y_pos, y_axis, bar_width, align='center', color='C0')\n",
    "\n",
    "plt.xticks(y_pos)\n",
    "plt.xlabel('Day')\n",
    "plt.ylabel('Number of serious criminal trespasses')\n",
    "plt.title('Number of serious criminal trespasses by day')\n",
    "plt.tight_layout()\n",
    "plt.show()"
   ]
  },
  {
   "cell_type": "code",
   "execution_count": null,
   "metadata": {},
   "outputs": [],
   "source": []
  }
 ],
 "metadata": {
  "kernelspec": {
   "display_name": "Python 3",
   "language": "python",
   "name": "python3"
  },
  "language_info": {
   "codemirror_mode": {
    "name": "ipython",
    "version": 3
   },
   "file_extension": ".py",
   "mimetype": "text/x-python",
   "name": "python",
   "nbconvert_exporter": "python",
   "pygments_lexer": "ipython3",
   "version": "3.6.8"
  }
 },
 "nbformat": 4,
 "nbformat_minor": 2
}
